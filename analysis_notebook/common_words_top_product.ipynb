{
 "cells": [
  {
   "cell_type": "code",
   "execution_count": 1,
   "metadata": {},
   "outputs": [
    {
     "data": {
      "text/plain": [
       "True"
      ]
     },
     "execution_count": 1,
     "metadata": {},
     "output_type": "execute_result"
    }
   ],
   "source": [
    "import numpy as np\n",
    "import pandas as pd\n",
    "import matplotlib.pyplot as plt\n",
    "import seaborn as sns\n",
    "import psycopg2\n",
    "from wordcloud import STOPWORDS\n",
    "from sqlalchemy import create_engine \n",
    "import os\n",
    "from dotenv import load_dotenv\n",
    "load_dotenv(\"../.env.postgres\")"
   ]
  },
  {
   "cell_type": "code",
   "execution_count": 2,
   "metadata": {},
   "outputs": [],
   "source": [
    "conn = psycopg2.connect(\n",
    "    database = \"amazon_uk\",\n",
    "    user = os.environ[\"POSTGRES_USER\"],\n",
    "    password = os.environ[\"POSTGRES_PASSWORD\"]\n",
    ")"
   ]
  },
  {
   "cell_type": "markdown",
   "metadata": {},
   "source": [
    "We first analyze the words used in title of top 5% most bought products vs. top 5% least bought products"
   ]
  },
  {
   "cell_type": "code",
   "execution_count": 3,
   "metadata": {},
   "outputs": [
    {
     "name": "stderr",
     "output_type": "stream",
     "text": [
      "C:\\Users\\Admin\\AppData\\Local\\Temp\\ipykernel_6716\\3787557939.py:1: UserWarning: pandas only supports SQLAlchemy connectable (engine/connection) or database string URI or sqlite3 DBAPI2 connection. Other DBAPI2 objects are not tested. Please consider using SQLAlchemy.\n",
      "  df = pd.read_sql('SELECT * FROM amazon_uk_2023 ORDER BY \"boughtInLastMonth\" DESC LIMIT 100000;', conn)\n"
     ]
    },
    {
     "data": {
      "text/html": [
       "<div>\n",
       "<style scoped>\n",
       "    .dataframe tbody tr th:only-of-type {\n",
       "        vertical-align: middle;\n",
       "    }\n",
       "\n",
       "    .dataframe tbody tr th {\n",
       "        vertical-align: top;\n",
       "    }\n",
       "\n",
       "    .dataframe thead th {\n",
       "        text-align: right;\n",
       "    }\n",
       "</style>\n",
       "<table border=\"1\" class=\"dataframe\">\n",
       "  <thead>\n",
       "    <tr style=\"text-align: right;\">\n",
       "      <th></th>\n",
       "      <th>index</th>\n",
       "      <th>asin</th>\n",
       "      <th>title</th>\n",
       "      <th>imgUrl</th>\n",
       "      <th>productURL</th>\n",
       "      <th>stars</th>\n",
       "      <th>reviews</th>\n",
       "      <th>price</th>\n",
       "      <th>isBestSeller</th>\n",
       "      <th>boughtInLastMonth</th>\n",
       "      <th>categoryName</th>\n",
       "    </tr>\n",
       "  </thead>\n",
       "  <tbody>\n",
       "    <tr>\n",
       "      <th>0</th>\n",
       "      <td>205639</td>\n",
       "      <td>B001MZV3OO</td>\n",
       "      <td>Catsan Hygiene Cat Litter 20L</td>\n",
       "      <td>https://m.media-amazon.com/images/I/71bURZaHfF...</td>\n",
       "      <td>https://www.amazon.co.uk/dp/B001MZV3OO</td>\n",
       "      <td>4.7</td>\n",
       "      <td>31204</td>\n",
       "      <td>14.99</td>\n",
       "      <td>False</td>\n",
       "      <td>50000</td>\n",
       "      <td>Pet Supplies</td>\n",
       "    </tr>\n",
       "    <tr>\n",
       "      <th>1</th>\n",
       "      <td>1557617</td>\n",
       "      <td>B004OCO20E</td>\n",
       "      <td>Andrex Gentle Clean Toilet Rolls - 45 Toilet R...</td>\n",
       "      <td>https://m.media-amazon.com/images/I/81K5VbVsCx...</td>\n",
       "      <td>https://www.amazon.co.uk/dp/B004OCO20E</td>\n",
       "      <td>4.6</td>\n",
       "      <td>44511</td>\n",
       "      <td>22.22</td>\n",
       "      <td>False</td>\n",
       "      <td>50000</td>\n",
       "      <td>Grocery</td>\n",
       "    </tr>\n",
       "    <tr>\n",
       "      <th>2</th>\n",
       "      <td>1252283</td>\n",
       "      <td>B07V2N4SJY</td>\n",
       "      <td>Amazon Brand – Mama Bear Sensitive Unscented B...</td>\n",
       "      <td>https://m.media-amazon.com/images/I/61lBVjA7jr...</td>\n",
       "      <td>https://www.amazon.co.uk/dp/B07V2N4SJY</td>\n",
       "      <td>4.7</td>\n",
       "      <td>32294</td>\n",
       "      <td>12.60</td>\n",
       "      <td>False</td>\n",
       "      <td>40000</td>\n",
       "      <td>Health &amp; Personal Care</td>\n",
       "    </tr>\n",
       "    <tr>\n",
       "      <th>3</th>\n",
       "      <td>1557618</td>\n",
       "      <td>B01JS6YLQK</td>\n",
       "      <td>Regina Blitz Household Towel, 560 Super-Sized ...</td>\n",
       "      <td>https://m.media-amazon.com/images/I/81+y0+Frsp...</td>\n",
       "      <td>https://www.amazon.co.uk/dp/B01JS6YLQK</td>\n",
       "      <td>4.8</td>\n",
       "      <td>40648</td>\n",
       "      <td>14.99</td>\n",
       "      <td>True</td>\n",
       "      <td>30000</td>\n",
       "      <td>Grocery</td>\n",
       "    </tr>\n",
       "    <tr>\n",
       "      <th>4</th>\n",
       "      <td>995347</td>\n",
       "      <td>B08WR5CPNB</td>\n",
       "      <td>Maybelline New York Lash Sensational Sky High ...</td>\n",
       "      <td>https://m.media-amazon.com/images/I/41vtg+FgTx...</td>\n",
       "      <td>https://www.amazon.co.uk/dp/B08WR5CPNB</td>\n",
       "      <td>4.4</td>\n",
       "      <td>52463</td>\n",
       "      <td>8.75</td>\n",
       "      <td>False</td>\n",
       "      <td>30000</td>\n",
       "      <td>Make-up</td>\n",
       "    </tr>\n",
       "  </tbody>\n",
       "</table>\n",
       "</div>"
      ],
      "text/plain": [
       "     index        asin                                              title  \\\n",
       "0   205639  B001MZV3OO                      Catsan Hygiene Cat Litter 20L   \n",
       "1  1557617  B004OCO20E  Andrex Gentle Clean Toilet Rolls - 45 Toilet R...   \n",
       "2  1252283  B07V2N4SJY  Amazon Brand – Mama Bear Sensitive Unscented B...   \n",
       "3  1557618  B01JS6YLQK  Regina Blitz Household Towel, 560 Super-Sized ...   \n",
       "4   995347  B08WR5CPNB  Maybelline New York Lash Sensational Sky High ...   \n",
       "\n",
       "                                              imgUrl  \\\n",
       "0  https://m.media-amazon.com/images/I/71bURZaHfF...   \n",
       "1  https://m.media-amazon.com/images/I/81K5VbVsCx...   \n",
       "2  https://m.media-amazon.com/images/I/61lBVjA7jr...   \n",
       "3  https://m.media-amazon.com/images/I/81+y0+Frsp...   \n",
       "4  https://m.media-amazon.com/images/I/41vtg+FgTx...   \n",
       "\n",
       "                               productURL  stars  reviews  price  \\\n",
       "0  https://www.amazon.co.uk/dp/B001MZV3OO    4.7    31204  14.99   \n",
       "1  https://www.amazon.co.uk/dp/B004OCO20E    4.6    44511  22.22   \n",
       "2  https://www.amazon.co.uk/dp/B07V2N4SJY    4.7    32294  12.60   \n",
       "3  https://www.amazon.co.uk/dp/B01JS6YLQK    4.8    40648  14.99   \n",
       "4  https://www.amazon.co.uk/dp/B08WR5CPNB    4.4    52463   8.75   \n",
       "\n",
       "   isBestSeller  boughtInLastMonth            categoryName  \n",
       "0         False              50000            Pet Supplies  \n",
       "1         False              50000                 Grocery  \n",
       "2         False              40000  Health & Personal Care  \n",
       "3          True              30000                 Grocery  \n",
       "4         False              30000                 Make-up  "
      ]
     },
     "execution_count": 3,
     "metadata": {},
     "output_type": "execute_result"
    }
   ],
   "source": [
    "df = pd.read_sql('SELECT * FROM amazon_uk_2023 ORDER BY \"boughtInLastMonth\" DESC LIMIT 100000;', conn)\n",
    "df.head()"
   ]
  },
  {
   "cell_type": "code",
   "execution_count": 4,
   "metadata": {},
   "outputs": [],
   "source": [
    "# check if a word has non alphabet character\n",
    "def check_word(word):\n",
    "    return all(w in \"abcdefghijklmnopqrstuvwxyz\" for w in word.lower())"
   ]
  },
  {
   "cell_type": "code",
   "execution_count": 5,
   "metadata": {},
   "outputs": [],
   "source": [
    "stopwords = set(STOPWORDS)"
   ]
  },
  {
   "cell_type": "code",
   "execution_count": 6,
   "metadata": {},
   "outputs": [
    {
     "name": "stdout",
     "output_type": "stream",
     "text": [
      "There are 1320546 words that in best seller category\n"
     ]
    }
   ],
   "source": [
    "most_bought_words = \" \".join(title for title in df.title).lower().split(\" \")\n",
    "most_bought_words = [b for b in most_bought_words if (b not in stopwords) and (check_word(b))]\n",
    "print(f\"There are {len(most_bought_words)} words that in best seller category\")"
   ]
  },
  {
   "cell_type": "code",
   "execution_count": 7,
   "metadata": {},
   "outputs": [
    {
     "data": {
      "text/html": [
       "<div>\n",
       "<style scoped>\n",
       "    .dataframe tbody tr th:only-of-type {\n",
       "        vertical-align: middle;\n",
       "    }\n",
       "\n",
       "    .dataframe tbody tr th {\n",
       "        vertical-align: top;\n",
       "    }\n",
       "\n",
       "    .dataframe thead th {\n",
       "        text-align: right;\n",
       "    }\n",
       "</style>\n",
       "<table border=\"1\" class=\"dataframe\">\n",
       "  <thead>\n",
       "    <tr style=\"text-align: right;\">\n",
       "      <th></th>\n",
       "      <th>word</th>\n",
       "      <th>count</th>\n",
       "    </tr>\n",
       "  </thead>\n",
       "  <tbody>\n",
       "    <tr>\n",
       "      <th>0</th>\n",
       "      <td>x</td>\n",
       "      <td>10983</td>\n",
       "    </tr>\n",
       "    <tr>\n",
       "      <th>1</th>\n",
       "      <td>pack</td>\n",
       "      <td>9640</td>\n",
       "    </tr>\n",
       "    <tr>\n",
       "      <th>2</th>\n",
       "      <td>hair</td>\n",
       "      <td>8472</td>\n",
       "    </tr>\n",
       "    <tr>\n",
       "      <th>3</th>\n",
       "      <td>kids</td>\n",
       "      <td>6876</td>\n",
       "    </tr>\n",
       "    <tr>\n",
       "      <th>4</th>\n",
       "      <td>set</td>\n",
       "      <td>6210</td>\n",
       "    </tr>\n",
       "  </tbody>\n",
       "</table>\n",
       "</div>"
      ],
      "text/plain": [
       "   word  count\n",
       "0     x  10983\n",
       "1  pack   9640\n",
       "2  hair   8472\n",
       "3  kids   6876\n",
       "4   set   6210"
      ]
     },
     "execution_count": 7,
     "metadata": {},
     "output_type": "execute_result"
    }
   ],
   "source": [
    "most_bought_words_df = pd.DataFrame({\"word\": most_bought_words})\n",
    "most_bought_words_df = pd.DataFrame(most_bought_words_df[\"word\"].value_counts()).reset_index().rename({\"index\":\"word\", \"word\": \"count\"}, axis = 1)\n",
    "most_bought_words_df.head()"
   ]
  },
  {
   "cell_type": "code",
   "execution_count": 8,
   "metadata": {},
   "outputs": [
    {
     "name": "stderr",
     "output_type": "stream",
     "text": [
      "C:\\Users\\Admin\\AppData\\Local\\Temp\\ipykernel_6716\\3764743998.py:1: UserWarning: pandas only supports SQLAlchemy connectable (engine/connection) or database string URI or sqlite3 DBAPI2 connection. Other DBAPI2 objects are not tested. Please consider using SQLAlchemy.\n",
      "  df = pd.read_sql('SELECT * FROM amazon_uk_2023 ORDER BY \"boughtInLastMonth\" LIMIT 100000;', conn)\n"
     ]
    },
    {
     "name": "stdout",
     "output_type": "stream",
     "text": [
      "There are 1317531 words that in best seller category\n"
     ]
    }
   ],
   "source": [
    "df = pd.read_sql('SELECT * FROM amazon_uk_2023 ORDER BY \"boughtInLastMonth\" LIMIT 100000;', conn)\n",
    "least_bought_words = \" \".join(title for title in df.title).lower().split(\" \")\n",
    "least_bought_words = [b for b in least_bought_words if (b not in stopwords) and (check_word(b))]\n",
    "print(f\"There are {len(least_bought_words)} words that in best seller category\")"
   ]
  },
  {
   "cell_type": "code",
   "execution_count": 9,
   "metadata": {},
   "outputs": [
    {
     "data": {
      "text/html": [
       "<div>\n",
       "<style scoped>\n",
       "    .dataframe tbody tr th:only-of-type {\n",
       "        vertical-align: middle;\n",
       "    }\n",
       "\n",
       "    .dataframe tbody tr th {\n",
       "        vertical-align: top;\n",
       "    }\n",
       "\n",
       "    .dataframe thead th {\n",
       "        text-align: right;\n",
       "    }\n",
       "</style>\n",
       "<table border=\"1\" class=\"dataframe\">\n",
       "  <thead>\n",
       "    <tr style=\"text-align: right;\">\n",
       "      <th></th>\n",
       "      <th>word</th>\n",
       "      <th>count</th>\n",
       "    </tr>\n",
       "  </thead>\n",
       "  <tbody>\n",
       "    <tr>\n",
       "      <th>0</th>\n",
       "      <td>nappy</td>\n",
       "      <td>215</td>\n",
       "    </tr>\n",
       "    <tr>\n",
       "      <th>1</th>\n",
       "      <td>gummies</td>\n",
       "      <td>187</td>\n",
       "    </tr>\n",
       "    <tr>\n",
       "      <th>2</th>\n",
       "      <td>keto</td>\n",
       "      <td>168</td>\n",
       "    </tr>\n",
       "    <tr>\n",
       "      <th>3</th>\n",
       "      <td>nicotine</td>\n",
       "      <td>167</td>\n",
       "    </tr>\n",
       "    <tr>\n",
       "      <th>4</th>\n",
       "      <td>whey</td>\n",
       "      <td>167</td>\n",
       "    </tr>\n",
       "  </tbody>\n",
       "</table>\n",
       "</div>"
      ],
      "text/plain": [
       "       word  count\n",
       "0     nappy    215\n",
       "1   gummies    187\n",
       "2      keto    168\n",
       "3  nicotine    167\n",
       "4      whey    167"
      ]
     },
     "execution_count": 9,
     "metadata": {},
     "output_type": "execute_result"
    }
   ],
   "source": [
    "most_bought_words_df = most_bought_words_df[~most_bought_words_df[\"word\"].isin(set(least_bought_words))].reset_index().drop(\"index\", axis = 1)\n",
    "most_bought_words_df.head()"
   ]
  },
  {
   "cell_type": "markdown",
   "metadata": {},
   "source": [
    "We also analyze the words used in title of top rated products (5 stars) (not in under 1 stars product)"
   ]
  },
  {
   "cell_type": "code",
   "execution_count": 10,
   "metadata": {},
   "outputs": [
    {
     "name": "stderr",
     "output_type": "stream",
     "text": [
      "C:\\Users\\Admin\\AppData\\Local\\Temp\\ipykernel_6716\\2649471446.py:1: UserWarning: pandas only supports SQLAlchemy connectable (engine/connection) or database string URI or sqlite3 DBAPI2 connection. Other DBAPI2 objects are not tested. Please consider using SQLAlchemy.\n",
      "  df = pd.read_sql('SELECT * FROM amazon_uk_2023 WHERE stars = 5;', conn)\n"
     ]
    },
    {
     "data": {
      "text/html": [
       "<div>\n",
       "<style scoped>\n",
       "    .dataframe tbody tr th:only-of-type {\n",
       "        vertical-align: middle;\n",
       "    }\n",
       "\n",
       "    .dataframe tbody tr th {\n",
       "        vertical-align: top;\n",
       "    }\n",
       "\n",
       "    .dataframe thead th {\n",
       "        text-align: right;\n",
       "    }\n",
       "</style>\n",
       "<table border=\"1\" class=\"dataframe\">\n",
       "  <thead>\n",
       "    <tr style=\"text-align: right;\">\n",
       "      <th></th>\n",
       "      <th>index</th>\n",
       "      <th>asin</th>\n",
       "      <th>title</th>\n",
       "      <th>imgUrl</th>\n",
       "      <th>productURL</th>\n",
       "      <th>stars</th>\n",
       "      <th>reviews</th>\n",
       "      <th>price</th>\n",
       "      <th>isBestSeller</th>\n",
       "      <th>boughtInLastMonth</th>\n",
       "      <th>categoryName</th>\n",
       "    </tr>\n",
       "  </thead>\n",
       "  <tbody>\n",
       "    <tr>\n",
       "      <th>0</th>\n",
       "      <td>74</td>\n",
       "      <td>B09LYZM9RJ</td>\n",
       "      <td>Fenton SHFS10W Active Subwoofer Speaker, 10\" f...</td>\n",
       "      <td>https://m.media-amazon.com/images/I/51jduec8al...</td>\n",
       "      <td>https://www.amazon.co.uk/dp/B09LYZM9RJ</td>\n",
       "      <td>5.0</td>\n",
       "      <td>1</td>\n",
       "      <td>169.00</td>\n",
       "      <td>False</td>\n",
       "      <td>0</td>\n",
       "      <td>Hi-Fi Speakers</td>\n",
       "    </tr>\n",
       "    <tr>\n",
       "      <th>1</th>\n",
       "      <td>267</td>\n",
       "      <td>B0BMB7B56J</td>\n",
       "      <td>Orange Portable Bluetooth Speaker Delivering S...</td>\n",
       "      <td>https://m.media-amazon.com/images/I/81R946t1Uf...</td>\n",
       "      <td>https://www.amazon.co.uk/dp/B0BMB7B56J</td>\n",
       "      <td>5.0</td>\n",
       "      <td>8</td>\n",
       "      <td>275.00</td>\n",
       "      <td>False</td>\n",
       "      <td>0</td>\n",
       "      <td>Hi-Fi Speakers</td>\n",
       "    </tr>\n",
       "    <tr>\n",
       "      <th>2</th>\n",
       "      <td>391</td>\n",
       "      <td>B0BHXJ72JT</td>\n",
       "      <td>Think Gizmos Portable Wireless Bluetooth Speak...</td>\n",
       "      <td>https://m.media-amazon.com/images/I/81sAggCZAJ...</td>\n",
       "      <td>https://www.amazon.co.uk/dp/B0BHXJ72JT</td>\n",
       "      <td>5.0</td>\n",
       "      <td>6</td>\n",
       "      <td>24.95</td>\n",
       "      <td>False</td>\n",
       "      <td>0</td>\n",
       "      <td>Hi-Fi Speakers</td>\n",
       "    </tr>\n",
       "    <tr>\n",
       "      <th>3</th>\n",
       "      <td>436</td>\n",
       "      <td>B0C8N8TMNM</td>\n",
       "      <td>EnjoyNest Sound Bars for TV, 30 Watts Small So...</td>\n",
       "      <td>https://m.media-amazon.com/images/I/51jSjJI8nK...</td>\n",
       "      <td>https://www.amazon.co.uk/dp/B0C8N8TMNM</td>\n",
       "      <td>5.0</td>\n",
       "      <td>7</td>\n",
       "      <td>45.99</td>\n",
       "      <td>False</td>\n",
       "      <td>0</td>\n",
       "      <td>Hi-Fi Speakers</td>\n",
       "    </tr>\n",
       "    <tr>\n",
       "      <th>4</th>\n",
       "      <td>466</td>\n",
       "      <td>B0CDBV94S6</td>\n",
       "      <td>MAJORITY Bluetooth Sound Bar for TV with Wirel...</td>\n",
       "      <td>https://m.media-amazon.com/images/I/51UeNz2znO...</td>\n",
       "      <td>https://www.amazon.co.uk/dp/B0CDBV94S6</td>\n",
       "      <td>5.0</td>\n",
       "      <td>2</td>\n",
       "      <td>99.95</td>\n",
       "      <td>False</td>\n",
       "      <td>0</td>\n",
       "      <td>Hi-Fi Speakers</td>\n",
       "    </tr>\n",
       "  </tbody>\n",
       "</table>\n",
       "</div>"
      ],
      "text/plain": [
       "   index        asin                                              title  \\\n",
       "0     74  B09LYZM9RJ  Fenton SHFS10W Active Subwoofer Speaker, 10\" f...   \n",
       "1    267  B0BMB7B56J  Orange Portable Bluetooth Speaker Delivering S...   \n",
       "2    391  B0BHXJ72JT  Think Gizmos Portable Wireless Bluetooth Speak...   \n",
       "3    436  B0C8N8TMNM  EnjoyNest Sound Bars for TV, 30 Watts Small So...   \n",
       "4    466  B0CDBV94S6  MAJORITY Bluetooth Sound Bar for TV with Wirel...   \n",
       "\n",
       "                                              imgUrl  \\\n",
       "0  https://m.media-amazon.com/images/I/51jduec8al...   \n",
       "1  https://m.media-amazon.com/images/I/81R946t1Uf...   \n",
       "2  https://m.media-amazon.com/images/I/81sAggCZAJ...   \n",
       "3  https://m.media-amazon.com/images/I/51jSjJI8nK...   \n",
       "4  https://m.media-amazon.com/images/I/51UeNz2znO...   \n",
       "\n",
       "                               productURL  stars  reviews   price  \\\n",
       "0  https://www.amazon.co.uk/dp/B09LYZM9RJ    5.0        1  169.00   \n",
       "1  https://www.amazon.co.uk/dp/B0BMB7B56J    5.0        8  275.00   \n",
       "2  https://www.amazon.co.uk/dp/B0BHXJ72JT    5.0        6   24.95   \n",
       "3  https://www.amazon.co.uk/dp/B0C8N8TMNM    5.0        7   45.99   \n",
       "4  https://www.amazon.co.uk/dp/B0CDBV94S6    5.0        2   99.95   \n",
       "\n",
       "   isBestSeller  boughtInLastMonth    categoryName  \n",
       "0         False                  0  Hi-Fi Speakers  \n",
       "1         False                  0  Hi-Fi Speakers  \n",
       "2         False                  0  Hi-Fi Speakers  \n",
       "3         False                  0  Hi-Fi Speakers  \n",
       "4         False                  0  Hi-Fi Speakers  "
      ]
     },
     "execution_count": 10,
     "metadata": {},
     "output_type": "execute_result"
    }
   ],
   "source": [
    "df = pd.read_sql('SELECT * FROM amazon_uk_2023 WHERE stars = 5;', conn)\n",
    "df.head()"
   ]
  },
  {
   "cell_type": "code",
   "execution_count": 11,
   "metadata": {},
   "outputs": [
    {
     "name": "stdout",
     "output_type": "stream",
     "text": [
      "There are 1251778 words that in best seller category\n"
     ]
    }
   ],
   "source": [
    "most_stars_words = \" \".join(title for title in df.title).lower().split(\" \")\n",
    "most_stars_words = [b for b in most_stars_words if (b not in stopwords) and (check_word(b))]\n",
    "print(f\"There are {len(most_stars_words)} words that in best seller category\")"
   ]
  },
  {
   "cell_type": "code",
   "execution_count": 12,
   "metadata": {},
   "outputs": [
    {
     "data": {
      "text/html": [
       "<div>\n",
       "<style scoped>\n",
       "    .dataframe tbody tr th:only-of-type {\n",
       "        vertical-align: middle;\n",
       "    }\n",
       "\n",
       "    .dataframe tbody tr th {\n",
       "        vertical-align: top;\n",
       "    }\n",
       "\n",
       "    .dataframe thead th {\n",
       "        text-align: right;\n",
       "    }\n",
       "</style>\n",
       "<table border=\"1\" class=\"dataframe\">\n",
       "  <thead>\n",
       "    <tr style=\"text-align: right;\">\n",
       "      <th></th>\n",
       "      <th>word</th>\n",
       "      <th>count</th>\n",
       "    </tr>\n",
       "  </thead>\n",
       "  <tbody>\n",
       "    <tr>\n",
       "      <th>0</th>\n",
       "      <td>gift</td>\n",
       "      <td>7733</td>\n",
       "    </tr>\n",
       "    <tr>\n",
       "      <th>1</th>\n",
       "      <td>x</td>\n",
       "      <td>7643</td>\n",
       "    </tr>\n",
       "    <tr>\n",
       "      <th>2</th>\n",
       "      <td>kids</td>\n",
       "      <td>6269</td>\n",
       "    </tr>\n",
       "    <tr>\n",
       "      <th>3</th>\n",
       "      <td>black</td>\n",
       "      <td>6251</td>\n",
       "    </tr>\n",
       "    <tr>\n",
       "      <th>4</th>\n",
       "      <td>set</td>\n",
       "      <td>5399</td>\n",
       "    </tr>\n",
       "  </tbody>\n",
       "</table>\n",
       "</div>"
      ],
      "text/plain": [
       "    word  count\n",
       "0   gift   7733\n",
       "1      x   7643\n",
       "2   kids   6269\n",
       "3  black   6251\n",
       "4    set   5399"
      ]
     },
     "execution_count": 12,
     "metadata": {},
     "output_type": "execute_result"
    }
   ],
   "source": [
    "most_stars_words_df = pd.DataFrame({\"word\": most_stars_words})\n",
    "most_stars_words_df = pd.DataFrame(most_stars_words_df[\"word\"].value_counts()).reset_index().rename({\"index\":\"word\", \"word\": \"count\"}, axis = 1)\n",
    "most_stars_words_df.head()"
   ]
  },
  {
   "cell_type": "code",
   "execution_count": 13,
   "metadata": {},
   "outputs": [
    {
     "name": "stderr",
     "output_type": "stream",
     "text": [
      "C:\\Users\\Admin\\AppData\\Local\\Temp\\ipykernel_6716\\3928113250.py:1: UserWarning: pandas only supports SQLAlchemy connectable (engine/connection) or database string URI or sqlite3 DBAPI2 connection. Other DBAPI2 objects are not tested. Please consider using SQLAlchemy.\n",
      "  df = pd.read_sql('SELECT * FROM amazon_uk_2023 WHERE stars = 0;', conn)\n"
     ]
    },
    {
     "name": "stdout",
     "output_type": "stream",
     "text": [
      "There are 16518357 words that in best seller category\n"
     ]
    }
   ],
   "source": [
    "df = pd.read_sql('SELECT * FROM amazon_uk_2023 WHERE stars = 0;', conn)\n",
    "least_stars_words = \" \".join(title for title in df.title).lower().split(\" \")\n",
    "least_stars_words = [b for b in least_stars_words if (b not in stopwords) and (check_word(b))]\n",
    "print(f\"There are {len(least_stars_words)} words that in best seller category\")"
   ]
  },
  {
   "cell_type": "code",
   "execution_count": 14,
   "metadata": {},
   "outputs": [
    {
     "data": {
      "text/html": [
       "<div>\n",
       "<style scoped>\n",
       "    .dataframe tbody tr th:only-of-type {\n",
       "        vertical-align: middle;\n",
       "    }\n",
       "\n",
       "    .dataframe tbody tr th {\n",
       "        vertical-align: top;\n",
       "    }\n",
       "\n",
       "    .dataframe thead th {\n",
       "        text-align: right;\n",
       "    }\n",
       "</style>\n",
       "<table border=\"1\" class=\"dataframe\">\n",
       "  <thead>\n",
       "    <tr style=\"text-align: right;\">\n",
       "      <th></th>\n",
       "      <th>word</th>\n",
       "      <th>count</th>\n",
       "    </tr>\n",
       "  </thead>\n",
       "  <tbody>\n",
       "    <tr>\n",
       "      <th>0</th>\n",
       "      <td>nnme</td>\n",
       "      <td>30</td>\n",
       "    </tr>\n",
       "    <tr>\n",
       "      <th>1</th>\n",
       "      <td>winodws</td>\n",
       "      <td>30</td>\n",
       "    </tr>\n",
       "    <tr>\n",
       "      <th>2</th>\n",
       "      <td>homei</td>\n",
       "      <td>16</td>\n",
       "    </tr>\n",
       "    <tr>\n",
       "      <th>3</th>\n",
       "      <td>gigabti</td>\n",
       "      <td>15</td>\n",
       "    </tr>\n",
       "    <tr>\n",
       "      <th>4</th>\n",
       "      <td>tunderbolt</td>\n",
       "      <td>14</td>\n",
       "    </tr>\n",
       "  </tbody>\n",
       "</table>\n",
       "</div>"
      ],
      "text/plain": [
       "         word  count\n",
       "0        nnme     30\n",
       "1     winodws     30\n",
       "2       homei     16\n",
       "3     gigabti     15\n",
       "4  tunderbolt     14"
      ]
     },
     "execution_count": 14,
     "metadata": {},
     "output_type": "execute_result"
    }
   ],
   "source": [
    "most_stars_words_df = most_stars_words_df[~most_stars_words_df[\"word\"].isin(set(least_stars_words))].reset_index().drop(\"index\", axis = 1)\n",
    "most_stars_words_df.head()"
   ]
  },
  {
   "cell_type": "code",
   "execution_count": 15,
   "metadata": {},
   "outputs": [],
   "source": [
    "conn.close()"
   ]
  },
  {
   "cell_type": "markdown",
   "metadata": {},
   "source": [
    "Save these datasets to Postgres"
   ]
  },
  {
   "cell_type": "code",
   "execution_count": 16,
   "metadata": {},
   "outputs": [],
   "source": [
    "conn_string = os.environ.get(\"POSTGRES_CONN\")\n",
    "db = create_engine(conn_string) \n",
    "conn = db.connect() "
   ]
  },
  {
   "cell_type": "code",
   "execution_count": 17,
   "metadata": {},
   "outputs": [
    {
     "data": {
      "text/plain": [
       "720"
      ]
     },
     "execution_count": 17,
     "metadata": {},
     "output_type": "execute_result"
    }
   ],
   "source": [
    "most_bought_words_df.to_sql('amazon_uk_2023_most_bought_words', conn, if_exists= 'replace') "
   ]
  },
  {
   "cell_type": "code",
   "execution_count": 18,
   "metadata": {},
   "outputs": [
    {
     "data": {
      "text/plain": [
       "724"
      ]
     },
     "execution_count": 18,
     "metadata": {},
     "output_type": "execute_result"
    }
   ],
   "source": [
    "most_stars_words_df.to_sql('amazon_uk_2023_most_stars_words', conn, if_exists= 'replace') "
   ]
  },
  {
   "cell_type": "code",
   "execution_count": 19,
   "metadata": {},
   "outputs": [],
   "source": [
    "conn.close()"
   ]
  }
 ],
 "metadata": {
  "kernelspec": {
   "display_name": "Python 3",
   "language": "python",
   "name": "python3"
  },
  "language_info": {
   "codemirror_mode": {
    "name": "ipython",
    "version": 3
   },
   "file_extension": ".py",
   "mimetype": "text/x-python",
   "name": "python",
   "nbconvert_exporter": "python",
   "pygments_lexer": "ipython3",
   "version": "3.10.0"
  }
 },
 "nbformat": 4,
 "nbformat_minor": 2
}
