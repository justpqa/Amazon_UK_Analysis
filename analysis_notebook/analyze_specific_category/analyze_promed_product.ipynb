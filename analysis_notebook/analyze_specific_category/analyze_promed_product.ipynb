{
 "cells": [
  {
   "cell_type": "code",
   "execution_count": 2,
   "metadata": {},
   "outputs": [
    {
     "name": "stderr",
     "output_type": "stream",
     "text": [
      "[nltk_data] Downloading package stopwords to\n",
      "[nltk_data]     C:\\Users\\Admin\\AppData\\Roaming\\nltk_data...\n",
      "[nltk_data]   Package stopwords is already up-to-date!\n"
     ]
    },
    {
     "data": {
      "text/plain": [
       "True"
      ]
     },
     "execution_count": 2,
     "metadata": {},
     "output_type": "execute_result"
    }
   ],
   "source": [
    "import numpy as np\n",
    "import pandas as pd\n",
    "import matplotlib.pyplot as plt\n",
    "import seaborn as sns\n",
    "from scipy.stats import ttest_ind, ttest_1samp\n",
    "import psycopg2\n",
    "import re\n",
    "import nltk\n",
    "nltk.download('stopwords')\n",
    "from nltk.corpus import stopwords\n",
    "stop_words = set(stopwords.words('english'))\n",
    "from sqlalchemy import create_engine \n",
    "import os\n",
    "from dotenv import load_dotenv\n",
    "load_dotenv(\"../../.env.postgres\")"
   ]
  },
  {
   "cell_type": "code",
   "execution_count": 3,
   "metadata": {},
   "outputs": [],
   "source": [
    "conn = psycopg2.connect(\n",
    "    database = \"amazon_uk\",\n",
    "    user = os.environ[\"POSTGRES_USER\"],\n",
    "    password = os.environ[\"POSTGRES_PASSWORD\"]\n",
    ")"
   ]
  },
  {
   "cell_type": "code",
   "execution_count": 4,
   "metadata": {},
   "outputs": [
    {
     "name": "stderr",
     "output_type": "stream",
     "text": [
      "C:\\Users\\Admin\\AppData\\Local\\Temp\\ipykernel_3288\\1050913608.py:1: UserWarning: pandas only supports SQLAlchemy connectable (engine/connection) or database string URI or sqlite3 DBAPI2 connection. Other DBAPI2 objects are not tested. Please consider using SQLAlchemy.\n",
      "  df = pd.read_sql(\"SELECT * FROM amazon_uk_2023_professional_med;\", conn)\n"
     ]
    },
    {
     "data": {
      "text/html": [
       "<div>\n",
       "<style scoped>\n",
       "    .dataframe tbody tr th:only-of-type {\n",
       "        vertical-align: middle;\n",
       "    }\n",
       "\n",
       "    .dataframe tbody tr th {\n",
       "        vertical-align: top;\n",
       "    }\n",
       "\n",
       "    .dataframe thead th {\n",
       "        text-align: right;\n",
       "    }\n",
       "</style>\n",
       "<table border=\"1\" class=\"dataframe\">\n",
       "  <thead>\n",
       "    <tr style=\"text-align: right;\">\n",
       "      <th></th>\n",
       "      <th>index</th>\n",
       "      <th>asin</th>\n",
       "      <th>title</th>\n",
       "      <th>imgUrl</th>\n",
       "      <th>productURL</th>\n",
       "      <th>stars</th>\n",
       "      <th>reviews</th>\n",
       "      <th>price</th>\n",
       "      <th>isBestSeller</th>\n",
       "      <th>boughtInLastMonth</th>\n",
       "      <th>categoryName</th>\n",
       "    </tr>\n",
       "  </thead>\n",
       "  <tbody>\n",
       "    <tr>\n",
       "      <th>0</th>\n",
       "      <td>569045</td>\n",
       "      <td>B09H6TR5HS</td>\n",
       "      <td>VITCOCO Ear Wax Removal Kit Ear Camera, 1920P ...</td>\n",
       "      <td>https://m.media-amazon.com/images/I/61i7DoS5B1...</td>\n",
       "      <td>https://www.amazon.co.uk/dp/B09H6TR5HS</td>\n",
       "      <td>4.2</td>\n",
       "      <td>1576</td>\n",
       "      <td>26.99</td>\n",
       "      <td>False</td>\n",
       "      <td>600</td>\n",
       "      <td>Professional Medical Supplies</td>\n",
       "    </tr>\n",
       "    <tr>\n",
       "      <th>1</th>\n",
       "      <td>569046</td>\n",
       "      <td>B01F0XPFHY</td>\n",
       "      <td>Steri Strips Elastic suture wound closure stit...</td>\n",
       "      <td>https://m.media-amazon.com/images/I/41BiQVjEBU...</td>\n",
       "      <td>https://www.amazon.co.uk/dp/B01F0XPFHY</td>\n",
       "      <td>4.5</td>\n",
       "      <td>456</td>\n",
       "      <td>3.38</td>\n",
       "      <td>False</td>\n",
       "      <td>100</td>\n",
       "      <td>Professional Medical Supplies</td>\n",
       "    </tr>\n",
       "    <tr>\n",
       "      <th>2</th>\n",
       "      <td>569047</td>\n",
       "      <td>B078P76WN9</td>\n",
       "      <td>Ciringe 20 ml Syringe with 14G Green Mixing Ki...</td>\n",
       "      <td>https://m.media-amazon.com/images/I/616xiiT7KE...</td>\n",
       "      <td>https://www.amazon.co.uk/dp/B078P76WN9</td>\n",
       "      <td>4.4</td>\n",
       "      <td>1608</td>\n",
       "      <td>2.89</td>\n",
       "      <td>False</td>\n",
       "      <td>0</td>\n",
       "      <td>Professional Medical Supplies</td>\n",
       "    </tr>\n",
       "    <tr>\n",
       "      <th>3</th>\n",
       "      <td>569048</td>\n",
       "      <td>B09NRNMDBJ</td>\n",
       "      <td>Pegasus Healthcare Blue Disposable Vinyl Medic...</td>\n",
       "      <td>https://m.media-amazon.com/images/I/61ph5MSv-I...</td>\n",
       "      <td>https://www.amazon.co.uk/dp/B09NRNMDBJ</td>\n",
       "      <td>4.3</td>\n",
       "      <td>85</td>\n",
       "      <td>3.35</td>\n",
       "      <td>False</td>\n",
       "      <td>50</td>\n",
       "      <td>Professional Medical Supplies</td>\n",
       "    </tr>\n",
       "    <tr>\n",
       "      <th>4</th>\n",
       "      <td>569049</td>\n",
       "      <td>B07GH71HK9</td>\n",
       "      <td>Qualicare First Aid Pupil Gauge Doctors Nurses...</td>\n",
       "      <td>https://m.media-amazon.com/images/I/711imdS2rC...</td>\n",
       "      <td>https://www.amazon.co.uk/dp/B07GH71HK9</td>\n",
       "      <td>4.4</td>\n",
       "      <td>160</td>\n",
       "      <td>3.65</td>\n",
       "      <td>False</td>\n",
       "      <td>300</td>\n",
       "      <td>Professional Medical Supplies</td>\n",
       "    </tr>\n",
       "  </tbody>\n",
       "</table>\n",
       "</div>"
      ],
      "text/plain": [
       "    index        asin                                              title  \\\n",
       "0  569045  B09H6TR5HS  VITCOCO Ear Wax Removal Kit Ear Camera, 1920P ...   \n",
       "1  569046  B01F0XPFHY  Steri Strips Elastic suture wound closure stit...   \n",
       "2  569047  B078P76WN9  Ciringe 20 ml Syringe with 14G Green Mixing Ki...   \n",
       "3  569048  B09NRNMDBJ  Pegasus Healthcare Blue Disposable Vinyl Medic...   \n",
       "4  569049  B07GH71HK9  Qualicare First Aid Pupil Gauge Doctors Nurses...   \n",
       "\n",
       "                                              imgUrl  \\\n",
       "0  https://m.media-amazon.com/images/I/61i7DoS5B1...   \n",
       "1  https://m.media-amazon.com/images/I/41BiQVjEBU...   \n",
       "2  https://m.media-amazon.com/images/I/616xiiT7KE...   \n",
       "3  https://m.media-amazon.com/images/I/61ph5MSv-I...   \n",
       "4  https://m.media-amazon.com/images/I/711imdS2rC...   \n",
       "\n",
       "                               productURL  stars  reviews  price  \\\n",
       "0  https://www.amazon.co.uk/dp/B09H6TR5HS    4.2     1576  26.99   \n",
       "1  https://www.amazon.co.uk/dp/B01F0XPFHY    4.5      456   3.38   \n",
       "2  https://www.amazon.co.uk/dp/B078P76WN9    4.4     1608   2.89   \n",
       "3  https://www.amazon.co.uk/dp/B09NRNMDBJ    4.3       85   3.35   \n",
       "4  https://www.amazon.co.uk/dp/B07GH71HK9    4.4      160   3.65   \n",
       "\n",
       "   isBestSeller  boughtInLastMonth                   categoryName  \n",
       "0         False                600  Professional Medical Supplies  \n",
       "1         False                100  Professional Medical Supplies  \n",
       "2         False                  0  Professional Medical Supplies  \n",
       "3         False                 50  Professional Medical Supplies  \n",
       "4         False                300  Professional Medical Supplies  "
      ]
     },
     "execution_count": 4,
     "metadata": {},
     "output_type": "execute_result"
    }
   ],
   "source": [
    "df = pd.read_sql(\"SELECT * FROM amazon_uk_2023_professional_med;\", conn)\n",
    "df.head()"
   ]
  },
  {
   "cell_type": "code",
   "execution_count": 5,
   "metadata": {},
   "outputs": [],
   "source": [
    "conn.close()"
   ]
  },
  {
   "cell_type": "code",
   "execution_count": 6,
   "metadata": {},
   "outputs": [],
   "source": [
    "conn_string = os.environ.get(\"POSTGRES_CONN\")\n",
    "conn = create_engine(conn_string) "
   ]
  },
  {
   "cell_type": "markdown",
   "metadata": {},
   "source": [
    "Analyze the statistics"
   ]
  },
  {
   "cell_type": "code",
   "execution_count": 7,
   "metadata": {},
   "outputs": [
    {
     "data": {
      "text/plain": [
       "<seaborn.axisgrid.PairGrid at 0x1a71258e8c0>"
      ]
     },
     "execution_count": 7,
     "metadata": {},
     "output_type": "execute_result"
    },
    {
     "data": {
      "image/png": "[encoded data removed]",
      "text/plain": [
       "<Figure size 1000x1000 with 20 Axes>"
      ]
     },
     "metadata": {},
     "output_type": "display_data"
    }
   ],
   "source": [
    "sns.pairplot(df[[\"stars\", \"price\", \"isBestSeller\", \"boughtInLastMonth\"]])"
   ]
  },
  {
   "cell_type": "code",
   "execution_count": 8,
   "metadata": {},
   "outputs": [],
   "source": [
    "df[\"hasBought\"] = df[\"boughtInLastMonth\"] > 0"
   ]
  },
  {
   "cell_type": "code",
   "execution_count": 9,
   "metadata": {},
   "outputs": [
    {
     "data": {
      "text/plain": [
       "0.11328125"
      ]
     },
     "execution_count": 9,
     "metadata": {},
     "output_type": "execute_result"
    }
   ],
   "source": [
    "df[df[\"boughtInLastMonth\"] > 0].shape[0] / df.shape[0]"
   ]
  },
  {
   "cell_type": "code",
   "execution_count": 10,
   "metadata": {},
   "outputs": [
    {
     "data": {
      "text/plain": [
       "<Axes: xlabel='hasBought', ylabel='stars'>"
      ]
     },
     "execution_count": 10,
     "metadata": {},
     "output_type": "execute_result"
    },
    {
     "data": {
      "image/png": "[encoded data removed]",
      "text/plain": [
       "<Figure size 640x480 with 1 Axes>"
      ]
     },
     "metadata": {},
     "output_type": "display_data"
    }
   ],
   "source": [
    "sns.boxplot(data = df, x = \"hasBought\", y = \"stars\")"
   ]
  },
  {
   "cell_type": "code",
   "execution_count": 11,
   "metadata": {},
   "outputs": [
    {
     "data": {
      "text/plain": [
       "<Axes: xlabel='hasBought', ylabel='price'>"
      ]
     },
     "execution_count": 11,
     "metadata": {},
     "output_type": "execute_result"
    },
    {
     "data": {
      "image/png": "[encoded data removed]",
      "text/plain": [
       "<Figure size 640x480 with 1 Axes>"
      ]
     },
     "metadata": {},
     "output_type": "display_data"
    }
   ],
   "source": [
    "sns.boxplot(data = df, x = \"hasBought\", y = \"price\")"
   ]
  },
  {
   "cell_type": "code",
   "execution_count": 12,
   "metadata": {},
   "outputs": [
    {
     "data": {
      "text/plain": [
       "hasBought  isBestSeller\n",
       "False      False           227\n",
       "True       False            22\n",
       "           True              7\n",
       "Name: index, dtype: int64"
      ]
     },
     "execution_count": 12,
     "metadata": {},
     "output_type": "execute_result"
    }
   ],
   "source": [
    "df.groupby([\"hasBought\", \"isBestSeller\"]).count().iloc[:, 0]"
   ]
  },
  {
   "cell_type": "code",
   "execution_count": 13,
   "metadata": {},
   "outputs": [
    {
     "name": "stdout",
     "output_type": "stream",
     "text": [
      "Result for Welch's t-test for difference in means of stars ratings of has bought vs. no bought group\n",
      "t-statistics: 18.317259016002517\n",
      "p-value: 3.7166637450851533e-48\n",
      "CI for difference in means of star ratings of has bought vs. no bought group\n",
      "(2.415824769369981, 2.997907571508038)\n"
     ]
    }
   ],
   "source": [
    "# t-test for means of Stars between 2 groups\n",
    "stars_more_bought = np.array(df[df[\"hasBought\"]][\"stars\"])\n",
    "stars_less_bought = np.array(df[~df[\"hasBought\"]][\"stars\"])\n",
    "t_test_res = ttest_ind(stars_more_bought, stars_less_bought, equal_var = False)\n",
    "print(\"Result for Welch's t-test for difference in means of stars ratings of has bought vs. no bought group\")\n",
    "print(f\"t-statistics: {t_test_res.statistic}\")\n",
    "print(f\"p-value: {t_test_res.pvalue}\")\n",
    "ci = t_test_res.confidence_interval()\n",
    "print(\"CI for difference in means of star ratings of has bought vs. no bought group\")\n",
    "print(f\"({ci.low}, {ci.high})\")"
   ]
  },
  {
   "cell_type": "code",
   "execution_count": 14,
   "metadata": {},
   "outputs": [
    {
     "name": "stdout",
     "output_type": "stream",
     "text": [
      "Result for Welch's t-test for difference in means of price of has bought vs. no bought group\n",
      "t-statistics: -8.769741076505992\n",
      "p-value: 4.318367782561301e-16\n",
      "CI for difference in means of price of has bought vs. no bought group\n",
      "(-419.6006866550074, -265.6348594485928)\n"
     ]
    }
   ],
   "source": [
    "# t-test for means of Stars between 2 groups\n",
    "price_more_bought = np.array(df[df[\"hasBought\"]][\"price\"])\n",
    "price_less_bought = np.array(df[~df[\"hasBought\"]][\"price\"])\n",
    "t_test_res = ttest_ind(price_more_bought, price_less_bought, equal_var = False)\n",
    "print(\"Result for Welch's t-test for difference in means of price of has bought vs. no bought group\")\n",
    "print(f\"t-statistics: {t_test_res.statistic}\")\n",
    "print(f\"p-value: {t_test_res.pvalue}\")\n",
    "ci = t_test_res.confidence_interval()\n",
    "print(\"CI for difference in means of price of has bought vs. no bought group\")\n",
    "print(f\"({ci.low}, {ci.high})\")"
   ]
  },
  {
   "cell_type": "code",
   "execution_count": 15,
   "metadata": {},
   "outputs": [
    {
     "name": "stdout",
     "output_type": "stream",
     "text": [
      "CI for means of price of Health & Personal Care product\n",
      "(246.79806270285837, 385.68693729714164)\n"
     ]
    }
   ],
   "source": [
    "t_test_res = ttest_1samp(np.array(df[\"price\"]), 0)\n",
    "ci = t_test_res.confidence_interval()\n",
    "print(\"CI for means of price of Health & Personal Care product\")\n",
    "print(f\"({ci.low}, {ci.high})\")"
   ]
  },
  {
   "cell_type": "code",
   "execution_count": 16,
   "metadata": {},
   "outputs": [
    {
     "data": {
      "text/html": [
       "<div>\n",
       "<style scoped>\n",
       "    .dataframe tbody tr th:only-of-type {\n",
       "        vertical-align: middle;\n",
       "    }\n",
       "\n",
       "    .dataframe tbody tr th {\n",
       "        vertical-align: top;\n",
       "    }\n",
       "\n",
       "    .dataframe thead th {\n",
       "        text-align: right;\n",
       "    }\n",
       "</style>\n",
       "<table border=\"1\" class=\"dataframe\">\n",
       "  <thead>\n",
       "    <tr style=\"text-align: right;\">\n",
       "      <th></th>\n",
       "      <th>word</th>\n",
       "      <th>count</th>\n",
       "    </tr>\n",
       "  </thead>\n",
       "  <tbody>\n",
       "    <tr>\n",
       "      <th>0</th>\n",
       "      <td>ear</td>\n",
       "      <td>14</td>\n",
       "    </tr>\n",
       "    <tr>\n",
       "      <th>1</th>\n",
       "      <td>medical</td>\n",
       "      <td>12</td>\n",
       "    </tr>\n",
       "    <tr>\n",
       "      <th>2</th>\n",
       "      <td>suture</td>\n",
       "      <td>11</td>\n",
       "    </tr>\n",
       "    <tr>\n",
       "      <th>3</th>\n",
       "      <td>kit</td>\n",
       "      <td>11</td>\n",
       "    </tr>\n",
       "    <tr>\n",
       "      <th>4</th>\n",
       "      <td>oxygen</td>\n",
       "      <td>9</td>\n",
       "    </tr>\n",
       "  </tbody>\n",
       "</table>\n",
       "</div>"
      ],
      "text/plain": [
       "      word  count\n",
       "0      ear     14\n",
       "1  medical     12\n",
       "2   suture     11\n",
       "3      kit     11\n",
       "4   oxygen      9"
      ]
     },
     "execution_count": 16,
     "metadata": {},
     "output_type": "execute_result"
    }
   ],
   "source": [
    "# plot words from products that has someone bought\n",
    "has_bought_df = df[df[\"hasBought\"]]\n",
    "has_bought_title_all = \" \".join(has_bought_df[\"title\"]).lower()\n",
    "# Preprocess to remove non alphabet character and excess spaces\n",
    "has_bought_title_all = re.sub(r'[^a-zA-Z\\s]', '', has_bought_title_all)\n",
    "has_bought_title_all = re.sub(r'\\s+', ' ', has_bought_title_all).strip()\n",
    "# Get all words\n",
    "has_bought_title_words = has_bought_title_all.split()\n",
    "# remove stopwords\n",
    "has_bought_title_words = [w for w in has_bought_title_words if w not in stop_words]\n",
    "# Set up counter\n",
    "has_bought_title_words_counter = {}\n",
    "for w in has_bought_title_words:\n",
    "    has_bought_title_words_counter[w] = has_bought_title_words_counter.get(w, 0) + 1\n",
    "# Make the dataframe for this\n",
    "has_bought_title_words_counter_t = {\"word\": [], \"count\": []}\n",
    "for w in has_bought_title_words_counter:\n",
    "    has_bought_title_words_counter_t[\"word\"].append(w)\n",
    "    has_bought_title_words_counter_t[\"count\"].append(has_bought_title_words_counter[w])\n",
    "has_bought_title_words_df = pd.DataFrame(has_bought_title_words_counter_t)\n",
    "has_bought_title_words_df = has_bought_title_words_df.sort_values(\"count\", ascending = False).reset_index().drop(\"index\", axis = 1)\n",
    "has_bought_title_words_df.head()"
   ]
  },
  {
   "cell_type": "code",
   "execution_count": 17,
   "metadata": {},
   "outputs": [
    {
     "data": {
      "text/html": [
       "<div>\n",
       "<style scoped>\n",
       "    .dataframe tbody tr th:only-of-type {\n",
       "        vertical-align: middle;\n",
       "    }\n",
       "\n",
       "    .dataframe tbody tr th {\n",
       "        vertical-align: top;\n",
       "    }\n",
       "\n",
       "    .dataframe thead th {\n",
       "        text-align: right;\n",
       "    }\n",
       "</style>\n",
       "<table border=\"1\" class=\"dataframe\">\n",
       "  <thead>\n",
       "    <tr style=\"text-align: right;\">\n",
       "      <th></th>\n",
       "      <th>word</th>\n",
       "      <th>count</th>\n",
       "    </tr>\n",
       "  </thead>\n",
       "  <tbody>\n",
       "    <tr>\n",
       "      <th>0</th>\n",
       "      <td>medical</td>\n",
       "      <td>228</td>\n",
       "    </tr>\n",
       "    <tr>\n",
       "      <th>1</th>\n",
       "      <td>model</td>\n",
       "      <td>129</td>\n",
       "    </tr>\n",
       "    <tr>\n",
       "      <th>2</th>\n",
       "      <td>supplies</td>\n",
       "      <td>77</td>\n",
       "    </tr>\n",
       "    <tr>\n",
       "      <th>3</th>\n",
       "      <td>human</td>\n",
       "      <td>57</td>\n",
       "    </tr>\n",
       "    <tr>\n",
       "      <th>4</th>\n",
       "      <td>training</td>\n",
       "      <td>57</td>\n",
       "    </tr>\n",
       "  </tbody>\n",
       "</table>\n",
       "</div>"
      ],
      "text/plain": [
       "       word  count\n",
       "0   medical    228\n",
       "1     model    129\n",
       "2  supplies     77\n",
       "3     human     57\n",
       "4  training     57"
      ]
     },
     "execution_count": 17,
     "metadata": {},
     "output_type": "execute_result"
    }
   ],
   "source": [
    "# plot words from products that no one bought\n",
    "no_bought_df = df[~df[\"hasBought\"]]\n",
    "no_bought_title_all = \" \".join(no_bought_df[\"title\"]).lower()\n",
    "# Preprocess to remove non alphabet character and excess spaces\n",
    "no_bought_title_all = re.sub(r'[^a-zA-Z\\s]', '', no_bought_title_all)\n",
    "no_bought_title_all = re.sub(r'\\s+', ' ', no_bought_title_all).strip()\n",
    "# Get all words\n",
    "no_bought_title_words = no_bought_title_all.split()\n",
    "# remove stopwords\n",
    "no_bought_title_words = [w for w in no_bought_title_words if w not in stop_words]\n",
    "# Set up counter\n",
    "no_bought_title_words_counter = {}\n",
    "for w in no_bought_title_words:\n",
    "    no_bought_title_words_counter[w] = no_bought_title_words_counter.get(w, 0) + 1\n",
    "# Make the dataframe for this\n",
    "no_bought_title_words_counter_t = {\"word\": [], \"count\": []}\n",
    "for w in no_bought_title_words_counter:\n",
    "    no_bought_title_words_counter_t[\"word\"].append(w)\n",
    "    no_bought_title_words_counter_t[\"count\"].append(no_bought_title_words_counter[w])\n",
    "no_bought_title_words_df = pd.DataFrame(no_bought_title_words_counter_t).sort_values(\"count\", ascending = False).reset_index().drop(\"index\", axis = 1)\n",
    "no_bought_title_words_df.head()"
   ]
  },
  {
   "cell_type": "code",
   "execution_count": 18,
   "metadata": {},
   "outputs": [
    {
     "data": {
      "text/html": [
       "<div>\n",
       "<style scoped>\n",
       "    .dataframe tbody tr th:only-of-type {\n",
       "        vertical-align: middle;\n",
       "    }\n",
       "\n",
       "    .dataframe tbody tr th {\n",
       "        vertical-align: top;\n",
       "    }\n",
       "\n",
       "    .dataframe thead th {\n",
       "        text-align: right;\n",
       "    }\n",
       "</style>\n",
       "<table border=\"1\" class=\"dataframe\">\n",
       "  <thead>\n",
       "    <tr style=\"text-align: right;\">\n",
       "      <th></th>\n",
       "      <th>word</th>\n",
       "      <th>count_x</th>\n",
       "      <th>count_y</th>\n",
       "    </tr>\n",
       "  </thead>\n",
       "  <tbody>\n",
       "    <tr>\n",
       "      <th>24</th>\n",
       "      <td>camera</td>\n",
       "      <td>4</td>\n",
       "      <td>NaN</td>\n",
       "    </tr>\n",
       "    <tr>\n",
       "      <th>25</th>\n",
       "      <td>removal</td>\n",
       "      <td>4</td>\n",
       "      <td>NaN</td>\n",
       "    </tr>\n",
       "    <tr>\n",
       "      <th>26</th>\n",
       "      <td>p</td>\n",
       "      <td>4</td>\n",
       "      <td>NaN</td>\n",
       "    </tr>\n",
       "    <tr>\n",
       "      <th>28</th>\n",
       "      <td>lanyard</td>\n",
       "      <td>4</td>\n",
       "      <td>NaN</td>\n",
       "    </tr>\n",
       "    <tr>\n",
       "      <th>29</th>\n",
       "      <td>en</td>\n",
       "      <td>4</td>\n",
       "      <td>NaN</td>\n",
       "    </tr>\n",
       "    <tr>\n",
       "      <th>...</th>\n",
       "      <td>...</td>\n",
       "      <td>...</td>\n",
       "      <td>...</td>\n",
       "    </tr>\n",
       "    <tr>\n",
       "      <th>271</th>\n",
       "      <td>viatom</td>\n",
       "      <td>1</td>\n",
       "      <td>NaN</td>\n",
       "    </tr>\n",
       "    <tr>\n",
       "      <th>273</th>\n",
       "      <td>wrist</td>\n",
       "      <td>1</td>\n",
       "      <td>NaN</td>\n",
       "    </tr>\n",
       "    <tr>\n",
       "      <th>274</th>\n",
       "      <td>ankle</td>\n",
       "      <td>1</td>\n",
       "      <td>NaN</td>\n",
       "    </tr>\n",
       "    <tr>\n",
       "      <th>275</th>\n",
       "      <td>sprains</td>\n",
       "      <td>1</td>\n",
       "      <td>NaN</td>\n",
       "    </tr>\n",
       "    <tr>\n",
       "      <th>276</th>\n",
       "      <td>swelling</td>\n",
       "      <td>1</td>\n",
       "      <td>NaN</td>\n",
       "    </tr>\n",
       "  </tbody>\n",
       "</table>\n",
       "<p>128 rows × 3 columns</p>\n",
       "</div>"
      ],
      "text/plain": [
       "         word  count_x  count_y\n",
       "24     camera        4      NaN\n",
       "25    removal        4      NaN\n",
       "26          p        4      NaN\n",
       "28    lanyard        4      NaN\n",
       "29         en        4      NaN\n",
       "..        ...      ...      ...\n",
       "271    viatom        1      NaN\n",
       "273     wrist        1      NaN\n",
       "274     ankle        1      NaN\n",
       "275   sprains        1      NaN\n",
       "276  swelling        1      NaN\n",
       "\n",
       "[128 rows x 3 columns]"
      ]
     },
     "execution_count": 18,
     "metadata": {},
     "output_type": "execute_result"
    }
   ],
   "source": [
    "# Only on those with bought\n",
    "only_has_bought = has_bought_title_words_df.merge(no_bought_title_words_df, how = \"left\", on = \"word\")\n",
    "only_has_bought = only_has_bought[only_has_bought[\"count_y\"].isna()]\n",
    "only_has_bought"
   ]
  },
  {
   "cell_type": "code",
   "execution_count": 19,
   "metadata": {},
   "outputs": [
    {
     "data": {
      "text/html": [
       "<div>\n",
       "<style scoped>\n",
       "    .dataframe tbody tr th:only-of-type {\n",
       "        vertical-align: middle;\n",
       "    }\n",
       "\n",
       "    .dataframe tbody tr th {\n",
       "        vertical-align: top;\n",
       "    }\n",
       "\n",
       "    .dataframe thead th {\n",
       "        text-align: right;\n",
       "    }\n",
       "</style>\n",
       "<table border=\"1\" class=\"dataframe\">\n",
       "  <thead>\n",
       "    <tr style=\"text-align: right;\">\n",
       "      <th></th>\n",
       "      <th>word</th>\n",
       "      <th>count_x</th>\n",
       "      <th>count_y</th>\n",
       "    </tr>\n",
       "  </thead>\n",
       "  <tbody>\n",
       "    <tr>\n",
       "      <th>1</th>\n",
       "      <td>model</td>\n",
       "      <td>129</td>\n",
       "      <td>NaN</td>\n",
       "    </tr>\n",
       "    <tr>\n",
       "      <th>5</th>\n",
       "      <td>teaching</td>\n",
       "      <td>52</td>\n",
       "      <td>NaN</td>\n",
       "    </tr>\n",
       "    <tr>\n",
       "      <th>6</th>\n",
       "      <td>professional</td>\n",
       "      <td>48</td>\n",
       "      <td>NaN</td>\n",
       "    </tr>\n",
       "    <tr>\n",
       "      <th>7</th>\n",
       "      <td>nursing</td>\n",
       "      <td>42</td>\n",
       "      <td>NaN</td>\n",
       "    </tr>\n",
       "    <tr>\n",
       "      <th>8</th>\n",
       "      <td>stethoscope</td>\n",
       "      <td>42</td>\n",
       "      <td>NaN</td>\n",
       "    </tr>\n",
       "    <tr>\n",
       "      <th>...</th>\n",
       "      <td>...</td>\n",
       "      <td>...</td>\n",
       "      <td>...</td>\n",
       "    </tr>\n",
       "    <tr>\n",
       "      <th>1027</th>\n",
       "      <td>fixed</td>\n",
       "      <td>1</td>\n",
       "      <td>NaN</td>\n",
       "    </tr>\n",
       "    <tr>\n",
       "      <th>1028</th>\n",
       "      <td>respiratory</td>\n",
       "      <td>1</td>\n",
       "      <td>NaN</td>\n",
       "    </tr>\n",
       "    <tr>\n",
       "      <th>1029</th>\n",
       "      <td>modelthoracic</td>\n",
       "      <td>1</td>\n",
       "      <td>NaN</td>\n",
       "    </tr>\n",
       "    <tr>\n",
       "      <th>1030</th>\n",
       "      <td>tree</td>\n",
       "      <td>1</td>\n",
       "      <td>NaN</td>\n",
       "    </tr>\n",
       "    <tr>\n",
       "      <th>1031</th>\n",
       "      <td>inner</td>\n",
       "      <td>1</td>\n",
       "      <td>NaN</td>\n",
       "    </tr>\n",
       "  </tbody>\n",
       "</table>\n",
       "<p>883 rows × 3 columns</p>\n",
       "</div>"
      ],
      "text/plain": [
       "               word  count_x  count_y\n",
       "1             model      129      NaN\n",
       "5          teaching       52      NaN\n",
       "6      professional       48      NaN\n",
       "7           nursing       42      NaN\n",
       "8       stethoscope       42      NaN\n",
       "...             ...      ...      ...\n",
       "1027          fixed        1      NaN\n",
       "1028    respiratory        1      NaN\n",
       "1029  modelthoracic        1      NaN\n",
       "1030           tree        1      NaN\n",
       "1031          inner        1      NaN\n",
       "\n",
       "[883 rows x 3 columns]"
      ]
     },
     "execution_count": 19,
     "metadata": {},
     "output_type": "execute_result"
    }
   ],
   "source": [
    "# Only on those with no bought\n",
    "only_no_bought = no_bought_title_words_df.merge(has_bought_title_words_df, how = \"left\", on = \"word\")\n",
    "only_no_bought = only_no_bought[only_no_bought[\"count_y\"].isna()]\n",
    "only_no_bought"
   ]
  },
  {
   "cell_type": "code",
   "execution_count": 20,
   "metadata": {},
   "outputs": [
    {
     "data": {
      "text/plain": [
       "128"
      ]
     },
     "execution_count": 20,
     "metadata": {},
     "output_type": "execute_result"
    }
   ],
   "source": [
    "# Save these notable words data to postgres\n",
    "only_has_bought = only_has_bought[[\"word\", \"count_x\"]]\n",
    "only_has_bought = only_has_bought.rename({\"count_x\": \"count\"}, axis = 1)\n",
    "only_has_bought = only_has_bought.reset_index().drop(\"index\", axis = 1)\n",
    "only_has_bought.to_sql(\"amazon_uk_2023_promed_product_has_bought_word\", conn, if_exists = \"replace\")"
   ]
  },
  {
   "cell_type": "code",
   "execution_count": 21,
   "metadata": {},
   "outputs": [
    {
     "data": {
      "text/plain": [
       "883"
      ]
     },
     "execution_count": 21,
     "metadata": {},
     "output_type": "execute_result"
    }
   ],
   "source": [
    "# Save these notable words data to postgres\n",
    "only_no_bought = only_no_bought[[\"word\", \"count_x\"]]\n",
    "only_no_bought = only_no_bought.rename({\"count_x\": \"count\"}, axis = 1)\n",
    "only_no_bought = only_no_bought.reset_index().drop(\"index\", axis = 1)\n",
    "only_no_bought.to_sql(\"amazon_uk_2023_promed_product_no_bought_word\", conn, if_exists = \"replace\")"
   ]
  },
  {
   "cell_type": "code",
   "execution_count": null,
   "metadata": {},
   "outputs": [],
   "source": [
    "for i in range(df.shape[0]):\n",
    "    if \"removal\" in df.iloc[i, 2].lower():\n",
    "        print(df.iloc[i, 2].lower())"
   ]
  },
  {
   "cell_type": "code",
   "execution_count": 34,
   "metadata": {},
   "outputs": [
    {
     "name": "stdout",
     "output_type": "stream",
     "text": [
      "survival medical suture practice kit for students - suture practice kit for suture training, full set of essentials stainless suturing tools, suture pad, gifts for medical students\n",
      "suturing practice kit for medical students gift nurses veterinarians for complete training kit | reusable silicon skin suture pad\n",
      "suture practice kit by medical creations - hd videos with a surgeon and advanced ebook training guide - reusable suturing pad with tool kit\n"
     ]
    }
   ],
   "source": [
    "for i in range(df.shape[0]):\n",
    "    if \"suturing\" in df.iloc[i, 2].lower():\n",
    "        print(df.iloc[i, 2].lower())"
   ]
  }
 ],
 "metadata": {
  "kernelspec": {
   "display_name": "Python 3",
   "language": "python",
   "name": "python3"
  },
  "language_info": {
   "codemirror_mode": {
    "name": "ipython",
    "version": 3
   },
   "file_extension": ".py",
   "mimetype": "text/x-python",
   "name": "python",
   "nbconvert_exporter": "python",
   "pygments_lexer": "ipython3",
   "version": "3.10.0"
  }
 },
 "nbformat": 4,
 "nbformat_minor": 2
}
